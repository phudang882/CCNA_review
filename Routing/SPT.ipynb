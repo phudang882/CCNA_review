{
 "cells": [
  {
   "cell_type": "code",
   "execution_count": null,
   "metadata": {},
   "outputs": [],
   "source": [
    "# Giới thiệu 2 giải thuật tìm kiếm đường đi ngắn nhất trong đồ thị\n",
    "# Dijkstra và Bellman-Ford"
   ]
  },
  {
   "cell_type": "code",
   "execution_count": 23,
   "metadata": {},
   "outputs": [],
   "source": [
    "# Giải thuật Dijkstra\n",
    "# Đầu vào: Đồ thị có trọng số, đỉnh bắt đầu\n",
    "# Đầu ra: Đường đi ngắn nhất từ đỉnh bắt đầu đến các đỉnh còn lại\n",
    "# Độ phức tạp: O(V^2) với V là số đỉnh\n",
    "# Độ phức tạp: O(E + VlogV) với E là số cạnh, V là số đỉnh\n",
    "# Điều kiện: Không có cạnh âm\n",
    "import math\n",
    "import matplotlib.pyplot as plt\n",
    "import networkx as nx\n",
    "import pydot as dot\n",
    "import pygraphviz as pgv\n",
    "import numpy as np\n",
    "from matplotlib import cm\n",
    "from matplotlib.ticker import LinearLocator, FormatStrFormatter"
   ]
  },
  {
   "cell_type": "code",
   "execution_count": 59,
   "metadata": {},
   "outputs": [
    {
     "data": {
      "text/plain": [
       "{('u', 'v'): Text(147.32049999999998, 18.0, '2'),\n",
       " ('u', 'x'): Text(57.0805, 70.1, '1'),\n",
       " ('u', 'w'): Text(87.161, 122.2, '5'),\n",
       " ('v', 'x'): Text(117.24, 70.1, '2'),\n",
       " ('v', 'w'): Text(147.32049999999998, 122.2, '3'),\n",
       " ('x', 'w'): Text(57.0805, 174.3, '3'),\n",
       " ('x', 'y'): Text(117.24, 174.3, '1'),\n",
       " ('w', 'y'): Text(147.32049999999998, 226.4, '1'),\n",
       " ('w', 'z'): Text(177.4005, 174.3, '5'),\n",
       " ('y', 'z'): Text(237.56, 174.3, '2')}"
      ]
     },
     "execution_count": 59,
     "metadata": {},
     "output_type": "execute_result"
    },
    {
     "data": {
      "image/png": "[encoded data removed]",
      "text/plain": [
       "<Figure size 640x480 with 1 Axes>"
      ]
     },
     "metadata": {},
     "output_type": "display_data"
    }
   ],
   "source": [
    "# Đồ thị có trọng số\n",
    "# graph = {\n",
    "#     'u': {'v': {'weight': 1}, 'x': {'weight': 2}},\n",
    "#     'B': {'C': {'weight': 2}, 'D': {'weight': 5}},\n",
    "#     'C': {'D': {'weight': 1}},\n",
    "#     'D': {}\n",
    "# }\n",
    "myGraph = nx.Graph()\n",
    "myGraph.add_nodes_from(['u', 'v', 'x', 'w', 'y', 'z'])\n",
    "myGraph.add_weighted_edges_from([('u', 'v', 2), ('u', 'x', 1), ('u', 'w', 5),\n",
    "                                ('v', 'x', 2), ('v', 'w', 3),\n",
    "                                ('x', 'w', 3), ('x', 'y', 1), ('w', 'y', 1),\n",
    "                                ('w', 'z', 5), ('y', 'z', 2)])\n",
    "pos = nx.nx_agraph.graphviz_layout(myGraph, prog='circo')\n",
    "labels = nx.get_edge_attributes(myGraph, 'weight')\n",
    "nx.draw(myGraph,pos,with_labels=True, node_color='lightblue', edge_color='grey', width=2, \n",
    "        edge_cmap=plt.cm.Blues, font_weight='bold')\n",
    "nx.draw_networkx_edge_labels(myGraph,pos,edge_labels=labels) \n",
    "# labels\n",
    "# m.edge_attr.items.\n",
    "# m.draw('graph.png', format='png', prog='circo')\n",
    "# m.write('graph.dot')\n",
    "# myGraph = dot.graph_from_dot_file('graph.dot')\n",
    "# myGraph = myGraph[0]\n",
    "# myGraph.write_png('graph.png', prog='circo')"
   ]
  },
  {
   "cell_type": "markdown",
   "metadata": {},
   "source": [
    "Ta có:\n",
    "    Tập đỉnh: V = {1, 2, 3, ..., n}\n",
    "    Tập cạnh: E = {(u, v) | u, v thuộc V}\n",
    "    Chi phí c(u, v) là chi phí của cạnh (u, v)\n",
    "    Chi phí d(v) là chi phí hiện thời từ đỉnh nguồn đến đỉnh đích v.\n",
    "    p(v) là đỉnh trước v trên đường đi ngắn nhất từ đỉnh nguồn đến v.\n",
    "    T: tập các đỉnh đã xét."
   ]
  },
  {
   "cell_type": "markdown",
   "metadata": {},
   "source": [
    "Giải thuật Dijkstra:\n",
    "Các thủ tục:\n",
    "    Init:\n",
    "        d(s) = 0\n",
    "        ∀ v ∈ V, v != s, d(v) = +inf, p(v) = NULL\n",
    "        T = {}\n",
    "    Dijkstra:\n",
    "        do:\n",
    "            u = u ∈ V | d(u) min.\n",
    "            T = T ∪ {u}\n",
    "            for neighbor v of u:\n",
    "                if d(v) > d(u) + c(u, v):\n",
    "                    d(v) = d(u) + c(u, v)\n",
    "                    p(v) = u\n",
    "        while T != V"
   ]
  },
  {
   "cell_type": "code",
   "execution_count": 2,
   "metadata": {},
   "outputs": [],
   "source": [
    "class Edge:\n",
    "    def __init__(self, u: str, v: str, dr : bool = False):\n",
    "        self.u = u\n",
    "        self.v = v\n",
    "        self.dr = dr\n",
    "    def __hash__(self) -> int:\n",
    "        if self.dr:\n",
    "            return hash((self.u, self.v, self.dr))\n",
    "        return hash((self.u, self.v)) if self.u < self.v else hash((self.v, self.u))\n",
    "    def __eq__(self, o: object) -> bool:\n",
    "        if not isinstance(o, Edge) or self.dr != o.dr:\n",
    "            return False\n",
    "        if self.u == o.u and self.v == o.v:\n",
    "            return True\n",
    "        if self.u == o.v and self.v == o.u:\n",
    "            return True\n",
    "        return False\n",
    "    def __str__(self) -> str:\n",
    "        if self.dr:\n",
    "            return f'{self.u} -> {self.v}' \n",
    "        return f'{self.u} -- {self.v}'\n",
    "    def __repr__(self) -> str:\n",
    "        return self.__str__()"
   ]
  },
  {
   "cell_type": "code",
   "execution_count": 3,
   "metadata": {},
   "outputs": [],
   "source": [
    "def drawGraph(node, S: set, c: dict):\n",
    "    SPT = nx.Graph()\n",
    "    SPT.add_nodes_from(node)\n",
    "    for e,w in c.items():\n",
    "        color = 'red' if e in S  else 'grey'\n",
    "        SPT.add_edge(e.u,e.v,weight = w,color = color)\n",
    "    pos = nx.nx_agraph.graphviz_layout(SPT, prog='circo')\n",
    "    labels = nx.get_edge_attributes(SPT, 'weight')\n",
    "    colors = nx.get_edge_attributes(SPT, 'color')\n",
    "    nx.draw(SPT,pos,with_labels=True, node_color='lightblue', edge_color=colors.values(), width=2, \n",
    "        edge_cmap=plt.cm.Blues, font_weight='bold'\n",
    "        )\n",
    "    nx.draw_networkx_edge_labels(SPT,pos,edge_labels=labels,label_pos=0.4)"
   ]
  },
  {
   "cell_type": "code",
   "execution_count": 4,
   "metadata": {},
   "outputs": [],
   "source": [
    "V = {'u', 'v', 'x', 'w', 'y', 'z'}\n",
    "E = {Edge('u','v'), Edge('u','x'), Edge('u','w'), Edge('v','x'), \n",
    "     Edge('v','w'), Edge('x','w'), Edge('x','y'), Edge('w','y'), \n",
    "     Edge('w','z'), Edge('y','z')}\n",
    "w = {Edge('u','v'):2, Edge('u','x'):1, Edge('u','w'):5, Edge('v','x'):2, \n",
    "     Edge('v','w'):3, Edge('x','w'):3, Edge('x','y'):1, Edge('w','y'):1, \n",
    "     Edge('w','z'):5, Edge('y','z'):2}\n",
    "def c(u,v) -> int:\n",
    "     if u == v:\n",
    "         return 0\n",
    "     return w[Edge(u,v)] if Edge(u,v) in w else math.inf"
   ]
  },
  {
   "cell_type": "code",
   "execution_count": 61,
   "metadata": {},
   "outputs": [
    {
     "data": {
      "text/plain": [
       "[z -- y, w -- y, y -- x, v -- u, x -- u]"
      ]
     },
     "execution_count": 61,
     "metadata": {},
     "output_type": "execute_result"
    }
   ],
   "source": [
    "# Dijkstra\n",
    "def dijkstra(V: set, E: set, c, u):\n",
    "    d = {}\n",
    "    p = {}\n",
    "    d[u] = 0\n",
    "    for v in V:\n",
    "        if v != u:\n",
    "            d[v] = math.inf\n",
    "            p[v] = None\n",
    "    T = set()\n",
    "    while len(T) < len(V):\n",
    "        w = min(V - T, key=d.get)\n",
    "        T.add(w)\n",
    "        for v in V - T:\n",
    "            if d[v] > d[w] + c(w,v):\n",
    "                d[v] = d[w] + c(w,v)\n",
    "                p[v] = w\n",
    "    return d, p\n",
    "d,p = dijkstra(V, E, c, 'u')\n",
    "S = [Edge(n,m) for n,m in p.items()]\n",
    "S"
   ]
  },
  {
   "cell_type": "code",
   "execution_count": 62,
   "metadata": {},
   "outputs": [
    {
     "data": {
      "image/png": "[encoded data removed]",
      "text/plain": [
       "<Figure size 640x480 with 1 Axes>"
      ]
     },
     "metadata": {},
     "output_type": "display_data"
    }
   ],
   "source": [
    "drawGraph(V, S, w)"
   ]
  },
  {
   "cell_type": "markdown",
   "metadata": {},
   "source": [
    "Giải thuật Bellman-Ford:\n",
    "    Init:\n",
    "        d(s) = 0\n",
    "        ∀ v ∈ V, v != s, d(v) = +inf, p(v) = NULL\n",
    "    Bellman-Ford:\n",
    "        for each u ∈ V:\n",
    "            for each (u, v) ∈ E:\n",
    "                if d(v) > d(u) + c(u, v):\n",
    "                    d(v) = d(u) + c(u, v)\n",
    "                    p(v) = u\n",
    "        for each (u, v) ∈ E:\n",
    "            if d(v) > d(u) + c(u, v):\n",
    "                return false\n",
    "        return true"
   ]
  },
  {
   "cell_type": "code",
   "execution_count": 129,
   "metadata": {},
   "outputs": [],
   "source": [
    "# Bellman-Ford\n",
    "def BellmanFord(V: set, E: set[Edge], c, s):\n",
    "    d = {}\n",
    "    d[s] = {}\n",
    "    for v in V:\n",
    "        d[s][v] = c(s,v)\n",
    "    for u in V - {s}:\n",
    "        for v in V:\n",
    "            if d[s][v] > d[s][u] + c(u,v):\n",
    "                d[s][v] = d[s][u] + c(u,v)\n",
    "    # for e in E:\n",
    "    #     if d[e.v] > d[e.u] + c[e]:\n",
    "    #         return False\n",
    "    return d, p\n",
    "d,p = BellmanFord(V, E, c,'u')\n",
    "S = [Edge(n,m) for n,m in p.items()]\n"
   ]
  },
  {
   "cell_type": "code",
   "execution_count": 131,
   "metadata": {},
   "outputs": [
    {
     "data": {
      "image/png": "[encoded data removed]",
      "text/plain": [
       "<Figure size 640x480 with 1 Axes>"
      ]
     },
     "metadata": {},
     "output_type": "display_data"
    }
   ],
   "source": [
    "drawGraph(V, S, w)"
   ]
  },
  {
   "cell_type": "markdown",
   "metadata": {},
   "source": [
    "Vậy trong Distance-vector routing, các router sẽ hoạt đột như thế nào?\n",
    "- Mỗi router gửi thông tin đến các router khác thông qua các gói tin.\n",
    "- Mỗi router sẽ cập nhật bảng định tuyến của mình dựa trên thông tin nhận được từ các router khác bằng cách sử dụng giải thuật Bellman-Ford.\n",
    "    Giả sử:\n",
    "    A -- B: 2\n",
    "    A -- C: 8\n",
    "    B -- C: 1\n",
    "    Ban đầu, các bản định tuyến của các router như sau:\n",
    "        A: {A: 0, B: 2, C: 8}\n",
    "        B: {A: 2, B: 0, C: 1}\n",
    "        C: {A: 8, B: 1, C: 0}\n",
    "    Sau khi A nhận được thông tin từ B và C:\n",
    "        A: {A: 0, B: 2, C: 3} (Cập nhật thông tin từ C hoặc B, tùy thuộc vào thứ tự nhận thông tin từ C và B)\n",
    "        B: {A: 2, B: 0, C: 1}\n",
    "        C: {A: 3, B: 1, C: 0}\n",
    "    Sau khi B nhận được thông tin từ A và C:\n",
    "        A: {A: 0, B: 2, C: 3}\n",
    "        B: {A: 2, B: 0, C: 1} (Vẫn giữ nguyên vì thông tin không tốt hơn thông tin hiện tại)\n",
    "        C: {A: 3, B: 1, C: 0}\n",
    "    Sau khi C nhận được thông tin từ A và B:\n",
    "        A: {A: 0, B: 2, C: 3}\n",
    "        B: {A: 2, B: 0, C: 1} \n",
    "        C: {A: 3, B: 1, C: 0} (Vẫn giữ nguyên vì thông tin không tốt hơn thông tin hiện tại)\n",
    "- Mỗi router sẽ gửi thông tin đến các router khác sau một khoảng thời gian nhất định.\n",
    "- Khi có sự thay đổi về đường đi, router sẽ gửi thông tin đến các router khác để cập nhật bảng định tuyến.\n",
    "\n"
   ]
  },
  {
   "cell_type": "code",
   "execution_count": 165,
   "metadata": {},
   "outputs": [],
   "source": [
    "\n",
    "class Router:\n",
    "    def __init__(self,name: str, c):\n",
    "        self.name = name\n",
    "        self.c = c\n",
    "        self.d = {}\n",
    "        self.d[self.name] = 0\n",
    "        self.route = {}\n",
    "        \n",
    "    def Update(self, data: tuple):\n",
    "        v, cv = data[0]\n",
    "        d = data[1]\n",
    "        for x,cvx in d.items():\n",
    "            if self.d.get(x,math.inf) > cvx + cv:\n",
    "                self.d[x] = cvx + cv\n",
    "                self.route[x] = v\n",
    "    \n",
    "    def Listen(self, data: tuple):\n",
    "        self.Update(data)\n",
    "    def Send(self, e: 'Router'):\n",
    "        msg = ((self.name,self.c(self.name,e.name)), self.d)\n",
    "        e.Listen(msg)\n",
    "    def Check(self, E: set[Edge]):\n",
    "        for v in self.route.copy():\n",
    "            if Edge(self.name, self.route[v]) not in E:\n",
    "                self.route.pop(v)\n",
    "                self.d.pop(v)"
   ]
  },
  {
   "cell_type": "code",
   "execution_count": 166,
   "metadata": {},
   "outputs": [],
   "source": [
    "Ru = Router('u', c)\n",
    "Rv = Router('v', c)\n",
    "Rx = Router('x', c)\n",
    "Rw = Router('w', c)\n",
    "Ry = Router('y', c)\n",
    "Rz = Router('z', c)\n"
   ]
  },
  {
   "cell_type": "code",
   "execution_count": 167,
   "metadata": {},
   "outputs": [
    {
     "name": "stdout",
     "output_type": "stream",
     "text": [
      "u {'u': 0} {}\n",
      "v {'v': 0} {}\n",
      "x {'x': 0} {}\n",
      "w {'w': 0} {}\n",
      "y {'y': 0} {}\n",
      "z {'z': 0} {}\n"
     ]
    }
   ],
   "source": [
    "listR = [Ru, Rv, Rx, Rw, Ry, Rz]\n",
    "for r in listR:\n",
    "    print(r.name, r.d, r.route)"
   ]
  },
  {
   "cell_type": "code",
   "execution_count": 180,
   "metadata": {},
   "outputs": [],
   "source": [
    "import threading\n",
    "\n",
    "\n",
    "eE = E  - {Edge('x','y')}\n",
    "for r in listR:\n",
    "    for v in listR:\n",
    "        if Edge(r.name, v.name) in eE:\n",
    "            r.Send(v)\n",
    "            r.Check(eE)\n",
    "t = threading.Thread(target=Ru.Send, args=(Rv,))\n",
    "t.start()\n",
    "            "
   ]
  },
  {
   "cell_type": "code",
   "execution_count": 107,
   "metadata": {},
   "outputs": [],
   "source": [
    "Rx.Send(Rv)"
   ]
  },
  {
   "cell_type": "code",
   "execution_count": 181,
   "metadata": {},
   "outputs": [
    {
     "name": "stdout",
     "output_type": "stream",
     "text": [
      "u {'v': 'v', 'x': 'x', 'w': 'x', 'y': 'x', 'z': 'x'}\n",
      "{'u': 0, 'v': 2, 'x': 1, 'w': 3, 'y': 2, 'z': 4}\n",
      "v {'u': 'u', 'x': 'x', 'w': 'w', 'y': 'x', 'z': 'x'}\n",
      "{'v': 0, 'u': 2, 'x': 2, 'w': 3, 'y': 3, 'z': 5}\n",
      "x {'u': 'u', 'v': 'v', 'w': 'w', 'y': 'w', 'z': 'w'}\n",
      "{'x': 0, 'u': 1, 'v': 2, 'w': 3, 'y': 4, 'z': 6}\n",
      "w {'u': 'y', 'v': 'v', 'x': 'y', 'y': 'y', 'z': 'y'}\n",
      "{'w': 0, 'u': 3, 'v': 3, 'x': 2, 'y': 1, 'z': 3}\n",
      "y {'w': 'w', 'z': 'z', 'u': 'z', 'v': 'z', 'x': 'z'}\n",
      "{'y': 0, 'w': 1, 'z': 2, 'u': 6, 'v': 7, 'x': 5}\n",
      "z {'w': 'y', 'u': 'y', 'v': 'y', 'x': 'y', 'y': 'y'}\n",
      "{'z': 0, 'w': 3, 'u': 4, 'v': 5, 'x': 3, 'y': 2}\n"
     ]
    }
   ],
   "source": [
    "for r in listR:\n",
    "    print(r.name, r.route)\n",
    "    print(r.d)"
   ]
  },
  {
   "cell_type": "code",
   "execution_count": 63,
   "metadata": {},
   "outputs": [
    {
     "data": {
      "image/png": "[encoded data removed]",
      "text/plain": [
       "<Figure size 640x480 with 1 Axes>"
      ]
     },
     "metadata": {},
     "output_type": "display_data"
    }
   ],
   "source": [
    "drawGraph(V, S, w)"
   ]
  }
 ],
 "metadata": {
  "kernelspec": {
   "display_name": "Python 3",
   "language": "python",
   "name": "python3"
  },
  "language_info": {
   "codemirror_mode": {
    "name": "ipython",
    "version": 3
   },
   "file_extension": ".py",
   "mimetype": "text/x-python",
   "name": "python",
   "nbconvert_exporter": "python",
   "pygments_lexer": "ipython3",
   "version": "3.10.8"
  }
 },
 "nbformat": 4,
 "nbformat_minor": 2
}
